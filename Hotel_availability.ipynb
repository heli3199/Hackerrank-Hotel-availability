{
  "cells": [
    {
      "cell_type": "code",
      "execution_count": null,
      "metadata": {
        "id": "NKtXAvBOi3kH"
      },
      "outputs": [],
      "source": [
        "import pandas as pd\n",
        "import matplotlib.pyplot as plt\n",
        "import seaborn as sns\n",
        "pd.set_option(\"display.max_columns\", 101)"
      ]
    },
    {
      "cell_type": "code",
      "execution_count": null,
      "metadata": {
        "id": "CEZe31kxjv5-"
      },
      "outputs": [],
      "source": [
        "data = pd.read_csv(\"train.csv\")"
      ]
    },
    {
      "cell_type": "code",
      "execution_count": null,
      "metadata": {
        "colab": {
          "base_uri": "https://localhost:8080/",
          "height": 206
        },
        "id": "SWh66QUIjzIk",
        "outputId": "8fd2eef5-6430-421c-d78d-763d3d914991"
      },
      "outputs": [
        {
          "output_type": "execute_result",
          "data": {
            "text/html": [
              "\n",
              "  <div id=\"df-678c4bfc-b78e-4714-8292-32695276db26\">\n",
              "    <div class=\"colab-df-container\">\n",
              "      <div>\n",
              "<style scoped>\n",
              "    .dataframe tbody tr th:only-of-type {\n",
              "        vertical-align: middle;\n",
              "    }\n",
              "\n",
              "    .dataframe tbody tr th {\n",
              "        vertical-align: top;\n",
              "    }\n",
              "\n",
              "    .dataframe thead th {\n",
              "        text-align: right;\n",
              "    }\n",
              "</style>\n",
              "<table border=\"1\" class=\"dataframe\">\n",
              "  <thead>\n",
              "    <tr style=\"text-align: right;\">\n",
              "      <th></th>\n",
              "      <th>id</th>\n",
              "      <th>region</th>\n",
              "      <th>latitude</th>\n",
              "      <th>longitude</th>\n",
              "      <th>accommodation_type</th>\n",
              "      <th>cost</th>\n",
              "      <th>minimum_nights</th>\n",
              "      <th>number_of_reviews</th>\n",
              "      <th>reviews_per_month</th>\n",
              "      <th>owner_id</th>\n",
              "      <th>owned_hotels</th>\n",
              "      <th>yearly_availability</th>\n",
              "    </tr>\n",
              "  </thead>\n",
              "  <tbody>\n",
              "    <tr>\n",
              "      <th>0</th>\n",
              "      <td>13232</td>\n",
              "      <td>Manhattan</td>\n",
              "      <td>40.71854</td>\n",
              "      <td>-74.00439</td>\n",
              "      <td>Entire home/apt</td>\n",
              "      <td>170</td>\n",
              "      <td>5</td>\n",
              "      <td>7</td>\n",
              "      <td>0.56</td>\n",
              "      <td>929983</td>\n",
              "      <td>1</td>\n",
              "      <td>0</td>\n",
              "    </tr>\n",
              "    <tr>\n",
              "      <th>1</th>\n",
              "      <td>246</td>\n",
              "      <td>Brooklyn</td>\n",
              "      <td>40.64446</td>\n",
              "      <td>-73.95030</td>\n",
              "      <td>Entire home/apt</td>\n",
              "      <td>65</td>\n",
              "      <td>3</td>\n",
              "      <td>238</td>\n",
              "      <td>2.30</td>\n",
              "      <td>281764</td>\n",
              "      <td>1</td>\n",
              "      <td>0</td>\n",
              "    </tr>\n",
              "    <tr>\n",
              "      <th>2</th>\n",
              "      <td>19091</td>\n",
              "      <td>Queens</td>\n",
              "      <td>40.78573</td>\n",
              "      <td>-73.81062</td>\n",
              "      <td>Private room</td>\n",
              "      <td>85</td>\n",
              "      <td>1</td>\n",
              "      <td>0</td>\n",
              "      <td>NaN</td>\n",
              "      <td>19923341</td>\n",
              "      <td>1</td>\n",
              "      <td>1</td>\n",
              "    </tr>\n",
              "    <tr>\n",
              "      <th>3</th>\n",
              "      <td>34305</td>\n",
              "      <td>Manhattan</td>\n",
              "      <td>40.73863</td>\n",
              "      <td>-73.98002</td>\n",
              "      <td>Private room</td>\n",
              "      <td>210</td>\n",
              "      <td>30</td>\n",
              "      <td>0</td>\n",
              "      <td>NaN</td>\n",
              "      <td>200380610</td>\n",
              "      <td>65</td>\n",
              "      <td>1</td>\n",
              "    </tr>\n",
              "    <tr>\n",
              "      <th>4</th>\n",
              "      <td>444</td>\n",
              "      <td>Manhattan</td>\n",
              "      <td>40.82426</td>\n",
              "      <td>-73.94630</td>\n",
              "      <td>Shared room</td>\n",
              "      <td>75</td>\n",
              "      <td>3</td>\n",
              "      <td>38</td>\n",
              "      <td>0.42</td>\n",
              "      <td>745069</td>\n",
              "      <td>3</td>\n",
              "      <td>1</td>\n",
              "    </tr>\n",
              "  </tbody>\n",
              "</table>\n",
              "</div>\n",
              "      <button class=\"colab-df-convert\" onclick=\"convertToInteractive('df-678c4bfc-b78e-4714-8292-32695276db26')\"\n",
              "              title=\"Convert this dataframe to an interactive table.\"\n",
              "              style=\"display:none;\">\n",
              "        \n",
              "  <svg xmlns=\"http://www.w3.org/2000/svg\" height=\"24px\"viewBox=\"0 0 24 24\"\n",
              "       width=\"24px\">\n",
              "    <path d=\"M0 0h24v24H0V0z\" fill=\"none\"/>\n",
              "    <path d=\"M18.56 5.44l.94 2.06.94-2.06 2.06-.94-2.06-.94-.94-2.06-.94 2.06-2.06.94zm-11 1L8.5 8.5l.94-2.06 2.06-.94-2.06-.94L8.5 2.5l-.94 2.06-2.06.94zm10 10l.94 2.06.94-2.06 2.06-.94-2.06-.94-.94-2.06-.94 2.06-2.06.94z\"/><path d=\"M17.41 7.96l-1.37-1.37c-.4-.4-.92-.59-1.43-.59-.52 0-1.04.2-1.43.59L10.3 9.45l-7.72 7.72c-.78.78-.78 2.05 0 2.83L4 21.41c.39.39.9.59 1.41.59.51 0 1.02-.2 1.41-.59l7.78-7.78 2.81-2.81c.8-.78.8-2.07 0-2.86zM5.41 20L4 18.59l7.72-7.72 1.47 1.35L5.41 20z\"/>\n",
              "  </svg>\n",
              "      </button>\n",
              "      \n",
              "  <style>\n",
              "    .colab-df-container {\n",
              "      display:flex;\n",
              "      flex-wrap:wrap;\n",
              "      gap: 12px;\n",
              "    }\n",
              "\n",
              "    .colab-df-convert {\n",
              "      background-color: #E8F0FE;\n",
              "      border: none;\n",
              "      border-radius: 50%;\n",
              "      cursor: pointer;\n",
              "      display: none;\n",
              "      fill: #1967D2;\n",
              "      height: 32px;\n",
              "      padding: 0 0 0 0;\n",
              "      width: 32px;\n",
              "    }\n",
              "\n",
              "    .colab-df-convert:hover {\n",
              "      background-color: #E2EBFA;\n",
              "      box-shadow: 0px 1px 2px rgba(60, 64, 67, 0.3), 0px 1px 3px 1px rgba(60, 64, 67, 0.15);\n",
              "      fill: #174EA6;\n",
              "    }\n",
              "\n",
              "    [theme=dark] .colab-df-convert {\n",
              "      background-color: #3B4455;\n",
              "      fill: #D2E3FC;\n",
              "    }\n",
              "\n",
              "    [theme=dark] .colab-df-convert:hover {\n",
              "      background-color: #434B5C;\n",
              "      box-shadow: 0px 1px 3px 1px rgba(0, 0, 0, 0.15);\n",
              "      filter: drop-shadow(0px 1px 2px rgba(0, 0, 0, 0.3));\n",
              "      fill: #FFFFFF;\n",
              "    }\n",
              "  </style>\n",
              "\n",
              "      <script>\n",
              "        const buttonEl =\n",
              "          document.querySelector('#df-678c4bfc-b78e-4714-8292-32695276db26 button.colab-df-convert');\n",
              "        buttonEl.style.display =\n",
              "          google.colab.kernel.accessAllowed ? 'block' : 'none';\n",
              "\n",
              "        async function convertToInteractive(key) {\n",
              "          const element = document.querySelector('#df-678c4bfc-b78e-4714-8292-32695276db26');\n",
              "          const dataTable =\n",
              "            await google.colab.kernel.invokeFunction('convertToInteractive',\n",
              "                                                     [key], {});\n",
              "          if (!dataTable) return;\n",
              "\n",
              "          const docLinkHtml = 'Like what you see? Visit the ' +\n",
              "            '<a target=\"_blank\" href=https://colab.research.google.com/notebooks/data_table.ipynb>data table notebook</a>'\n",
              "            + ' to learn more about interactive tables.';\n",
              "          element.innerHTML = '';\n",
              "          dataTable['output_type'] = 'display_data';\n",
              "          await google.colab.output.renderOutput(dataTable, element);\n",
              "          const docLink = document.createElement('div');\n",
              "          docLink.innerHTML = docLinkHtml;\n",
              "          element.appendChild(docLink);\n",
              "        }\n",
              "      </script>\n",
              "    </div>\n",
              "  </div>\n",
              "  "
            ],
            "text/plain": [
              "      id     region  latitude  longitude accommodation_type  cost  \\\n",
              "0  13232  Manhattan  40.71854  -74.00439    Entire home/apt   170   \n",
              "1    246   Brooklyn  40.64446  -73.95030    Entire home/apt    65   \n",
              "2  19091     Queens  40.78573  -73.81062       Private room    85   \n",
              "3  34305  Manhattan  40.73863  -73.98002       Private room   210   \n",
              "4    444  Manhattan  40.82426  -73.94630        Shared room    75   \n",
              "\n",
              "   minimum_nights  number_of_reviews  reviews_per_month   owner_id  \\\n",
              "0               5                  7               0.56     929983   \n",
              "1               3                238               2.30     281764   \n",
              "2               1                  0                NaN   19923341   \n",
              "3              30                  0                NaN  200380610   \n",
              "4               3                 38               0.42     745069   \n",
              "\n",
              "   owned_hotels  yearly_availability  \n",
              "0             1                    0  \n",
              "1             1                    0  \n",
              "2             1                    1  \n",
              "3            65                    1  \n",
              "4             3                    1  "
            ]
          },
          "metadata": {},
          "execution_count": 150
        }
      ],
      "source": [
        "data.head()"
      ]
    },
    {
      "cell_type": "code",
      "execution_count": null,
      "metadata": {
        "colab": {
          "base_uri": "https://localhost:8080/"
        },
        "id": "7E1oAH67j2nn",
        "outputId": "33ee59f6-0535-440e-fa08-9a45706b996e"
      },
      "outputs": [
        {
          "output_type": "execute_result",
          "data": {
            "text/plain": [
              "Index(['id', 'region', 'latitude', 'longitude', 'accommodation_type', 'cost',\n",
              "       'minimum_nights', 'number_of_reviews', 'reviews_per_month', 'owner_id',\n",
              "       'owned_hotels', 'yearly_availability'],\n",
              "      dtype='object')"
            ]
          },
          "metadata": {},
          "execution_count": 151
        }
      ],
      "source": [
        "data.columns"
      ]
    },
    {
      "cell_type": "code",
      "execution_count": null,
      "metadata": {
        "colab": {
          "base_uri": "https://localhost:8080/",
          "height": 300
        },
        "id": "wLDkIXGxj7Wp",
        "outputId": "c73032d1-c0aa-49dd-ebd1-568390490307"
      },
      "outputs": [
        {
          "output_type": "execute_result",
          "data": {
            "text/html": [
              "\n",
              "  <div id=\"df-1784782f-0249-4943-9010-833b6ca8e6ff\">\n",
              "    <div class=\"colab-df-container\">\n",
              "      <div>\n",
              "<style scoped>\n",
              "    .dataframe tbody tr th:only-of-type {\n",
              "        vertical-align: middle;\n",
              "    }\n",
              "\n",
              "    .dataframe tbody tr th {\n",
              "        vertical-align: top;\n",
              "    }\n",
              "\n",
              "    .dataframe thead th {\n",
              "        text-align: right;\n",
              "    }\n",
              "</style>\n",
              "<table border=\"1\" class=\"dataframe\">\n",
              "  <thead>\n",
              "    <tr style=\"text-align: right;\">\n",
              "      <th></th>\n",
              "      <th>id</th>\n",
              "      <th>latitude</th>\n",
              "      <th>longitude</th>\n",
              "      <th>cost</th>\n",
              "      <th>minimum_nights</th>\n",
              "      <th>number_of_reviews</th>\n",
              "      <th>reviews_per_month</th>\n",
              "      <th>owner_id</th>\n",
              "      <th>owned_hotels</th>\n",
              "      <th>yearly_availability</th>\n",
              "    </tr>\n",
              "  </thead>\n",
              "  <tbody>\n",
              "    <tr>\n",
              "      <th>count</th>\n",
              "      <td>2870.000000</td>\n",
              "      <td>2870.000000</td>\n",
              "      <td>2870.000000</td>\n",
              "      <td>2870.000000</td>\n",
              "      <td>2870.000000</td>\n",
              "      <td>2870.000000</td>\n",
              "      <td>2194.000000</td>\n",
              "      <td>2.870000e+03</td>\n",
              "      <td>2870.000000</td>\n",
              "      <td>2870.000000</td>\n",
              "    </tr>\n",
              "    <tr>\n",
              "      <th>mean</th>\n",
              "      <td>26760.657143</td>\n",
              "      <td>40.731224</td>\n",
              "      <td>-73.950158</td>\n",
              "      <td>195.943206</td>\n",
              "      <td>11.530314</td>\n",
              "      <td>16.315331</td>\n",
              "      <td>1.157502</td>\n",
              "      <td>7.202195e+07</td>\n",
              "      <td>8.411498</td>\n",
              "      <td>0.498606</td>\n",
              "    </tr>\n",
              "    <tr>\n",
              "      <th>std</th>\n",
              "      <td>14140.930062</td>\n",
              "      <td>0.054942</td>\n",
              "      <td>0.049745</td>\n",
              "      <td>406.184714</td>\n",
              "      <td>37.972339</td>\n",
              "      <td>32.481722</td>\n",
              "      <td>1.355028</td>\n",
              "      <td>8.076516e+07</td>\n",
              "      <td>27.105522</td>\n",
              "      <td>0.500085</td>\n",
              "    </tr>\n",
              "    <tr>\n",
              "      <th>min</th>\n",
              "      <td>0.000000</td>\n",
              "      <td>40.507080</td>\n",
              "      <td>-74.242850</td>\n",
              "      <td>10.000000</td>\n",
              "      <td>1.000000</td>\n",
              "      <td>0.000000</td>\n",
              "      <td>0.010000</td>\n",
              "      <td>2.787000e+03</td>\n",
              "      <td>1.000000</td>\n",
              "      <td>0.000000</td>\n",
              "    </tr>\n",
              "    <tr>\n",
              "      <th>25%</th>\n",
              "      <td>15931.750000</td>\n",
              "      <td>40.692462</td>\n",
              "      <td>-73.984003</td>\n",
              "      <td>75.000000</td>\n",
              "      <td>1.000000</td>\n",
              "      <td>1.000000</td>\n",
              "      <td>0.240000</td>\n",
              "      <td>7.388002e+06</td>\n",
              "      <td>1.000000</td>\n",
              "      <td>0.000000</td>\n",
              "    </tr>\n",
              "    <tr>\n",
              "      <th>50%</th>\n",
              "      <td>28946.500000</td>\n",
              "      <td>40.728250</td>\n",
              "      <td>-73.956720</td>\n",
              "      <td>120.000000</td>\n",
              "      <td>3.000000</td>\n",
              "      <td>4.000000</td>\n",
              "      <td>0.650000</td>\n",
              "      <td>3.352708e+07</td>\n",
              "      <td>1.000000</td>\n",
              "      <td>0.000000</td>\n",
              "    </tr>\n",
              "    <tr>\n",
              "      <th>75%</th>\n",
              "      <td>38478.500000</td>\n",
              "      <td>40.762658</td>\n",
              "      <td>-73.934202</td>\n",
              "      <td>200.000000</td>\n",
              "      <td>6.000000</td>\n",
              "      <td>16.000000</td>\n",
              "      <td>1.530000</td>\n",
              "      <td>1.207625e+08</td>\n",
              "      <td>3.000000</td>\n",
              "      <td>1.000000</td>\n",
              "    </tr>\n",
              "    <tr>\n",
              "      <th>max</th>\n",
              "      <td>48893.000000</td>\n",
              "      <td>40.898730</td>\n",
              "      <td>-73.721730</td>\n",
              "      <td>9999.000000</td>\n",
              "      <td>999.000000</td>\n",
              "      <td>395.000000</td>\n",
              "      <td>10.370000</td>\n",
              "      <td>2.738123e+08</td>\n",
              "      <td>327.000000</td>\n",
              "      <td>1.000000</td>\n",
              "    </tr>\n",
              "  </tbody>\n",
              "</table>\n",
              "</div>\n",
              "      <button class=\"colab-df-convert\" onclick=\"convertToInteractive('df-1784782f-0249-4943-9010-833b6ca8e6ff')\"\n",
              "              title=\"Convert this dataframe to an interactive table.\"\n",
              "              style=\"display:none;\">\n",
              "        \n",
              "  <svg xmlns=\"http://www.w3.org/2000/svg\" height=\"24px\"viewBox=\"0 0 24 24\"\n",
              "       width=\"24px\">\n",
              "    <path d=\"M0 0h24v24H0V0z\" fill=\"none\"/>\n",
              "    <path d=\"M18.56 5.44l.94 2.06.94-2.06 2.06-.94-2.06-.94-.94-2.06-.94 2.06-2.06.94zm-11 1L8.5 8.5l.94-2.06 2.06-.94-2.06-.94L8.5 2.5l-.94 2.06-2.06.94zm10 10l.94 2.06.94-2.06 2.06-.94-2.06-.94-.94-2.06-.94 2.06-2.06.94z\"/><path d=\"M17.41 7.96l-1.37-1.37c-.4-.4-.92-.59-1.43-.59-.52 0-1.04.2-1.43.59L10.3 9.45l-7.72 7.72c-.78.78-.78 2.05 0 2.83L4 21.41c.39.39.9.59 1.41.59.51 0 1.02-.2 1.41-.59l7.78-7.78 2.81-2.81c.8-.78.8-2.07 0-2.86zM5.41 20L4 18.59l7.72-7.72 1.47 1.35L5.41 20z\"/>\n",
              "  </svg>\n",
              "      </button>\n",
              "      \n",
              "  <style>\n",
              "    .colab-df-container {\n",
              "      display:flex;\n",
              "      flex-wrap:wrap;\n",
              "      gap: 12px;\n",
              "    }\n",
              "\n",
              "    .colab-df-convert {\n",
              "      background-color: #E8F0FE;\n",
              "      border: none;\n",
              "      border-radius: 50%;\n",
              "      cursor: pointer;\n",
              "      display: none;\n",
              "      fill: #1967D2;\n",
              "      height: 32px;\n",
              "      padding: 0 0 0 0;\n",
              "      width: 32px;\n",
              "    }\n",
              "\n",
              "    .colab-df-convert:hover {\n",
              "      background-color: #E2EBFA;\n",
              "      box-shadow: 0px 1px 2px rgba(60, 64, 67, 0.3), 0px 1px 3px 1px rgba(60, 64, 67, 0.15);\n",
              "      fill: #174EA6;\n",
              "    }\n",
              "\n",
              "    [theme=dark] .colab-df-convert {\n",
              "      background-color: #3B4455;\n",
              "      fill: #D2E3FC;\n",
              "    }\n",
              "\n",
              "    [theme=dark] .colab-df-convert:hover {\n",
              "      background-color: #434B5C;\n",
              "      box-shadow: 0px 1px 3px 1px rgba(0, 0, 0, 0.15);\n",
              "      filter: drop-shadow(0px 1px 2px rgba(0, 0, 0, 0.3));\n",
              "      fill: #FFFFFF;\n",
              "    }\n",
              "  </style>\n",
              "\n",
              "      <script>\n",
              "        const buttonEl =\n",
              "          document.querySelector('#df-1784782f-0249-4943-9010-833b6ca8e6ff button.colab-df-convert');\n",
              "        buttonEl.style.display =\n",
              "          google.colab.kernel.accessAllowed ? 'block' : 'none';\n",
              "\n",
              "        async function convertToInteractive(key) {\n",
              "          const element = document.querySelector('#df-1784782f-0249-4943-9010-833b6ca8e6ff');\n",
              "          const dataTable =\n",
              "            await google.colab.kernel.invokeFunction('convertToInteractive',\n",
              "                                                     [key], {});\n",
              "          if (!dataTable) return;\n",
              "\n",
              "          const docLinkHtml = 'Like what you see? Visit the ' +\n",
              "            '<a target=\"_blank\" href=https://colab.research.google.com/notebooks/data_table.ipynb>data table notebook</a>'\n",
              "            + ' to learn more about interactive tables.';\n",
              "          element.innerHTML = '';\n",
              "          dataTable['output_type'] = 'display_data';\n",
              "          await google.colab.output.renderOutput(dataTable, element);\n",
              "          const docLink = document.createElement('div');\n",
              "          docLink.innerHTML = docLinkHtml;\n",
              "          element.appendChild(docLink);\n",
              "        }\n",
              "      </script>\n",
              "    </div>\n",
              "  </div>\n",
              "  "
            ],
            "text/plain": [
              "                 id     latitude    longitude         cost  minimum_nights  \\\n",
              "count   2870.000000  2870.000000  2870.000000  2870.000000     2870.000000   \n",
              "mean   26760.657143    40.731224   -73.950158   195.943206       11.530314   \n",
              "std    14140.930062     0.054942     0.049745   406.184714       37.972339   \n",
              "min        0.000000    40.507080   -74.242850    10.000000        1.000000   \n",
              "25%    15931.750000    40.692462   -73.984003    75.000000        1.000000   \n",
              "50%    28946.500000    40.728250   -73.956720   120.000000        3.000000   \n",
              "75%    38478.500000    40.762658   -73.934202   200.000000        6.000000   \n",
              "max    48893.000000    40.898730   -73.721730  9999.000000      999.000000   \n",
              "\n",
              "       number_of_reviews  reviews_per_month      owner_id  owned_hotels  \\\n",
              "count        2870.000000        2194.000000  2.870000e+03   2870.000000   \n",
              "mean           16.315331           1.157502  7.202195e+07      8.411498   \n",
              "std            32.481722           1.355028  8.076516e+07     27.105522   \n",
              "min             0.000000           0.010000  2.787000e+03      1.000000   \n",
              "25%             1.000000           0.240000  7.388002e+06      1.000000   \n",
              "50%             4.000000           0.650000  3.352708e+07      1.000000   \n",
              "75%            16.000000           1.530000  1.207625e+08      3.000000   \n",
              "max           395.000000          10.370000  2.738123e+08    327.000000   \n",
              "\n",
              "       yearly_availability  \n",
              "count          2870.000000  \n",
              "mean              0.498606  \n",
              "std               0.500085  \n",
              "min               0.000000  \n",
              "25%               0.000000  \n",
              "50%               0.000000  \n",
              "75%               1.000000  \n",
              "max               1.000000  "
            ]
          },
          "metadata": {},
          "execution_count": 152
        }
      ],
      "source": [
        "data.describe()"
      ]
    },
    {
      "cell_type": "code",
      "execution_count": null,
      "metadata": {
        "colab": {
          "base_uri": "https://localhost:8080/"
        },
        "id": "mx4EfN23j8hF",
        "outputId": "452a8d30-b23f-438a-de3f-c387790a7f7a"
      },
      "outputs": [
        {
          "output_type": "execute_result",
          "data": {
            "text/plain": [
              "id                       0\n",
              "region                   0\n",
              "latitude                 0\n",
              "longitude                0\n",
              "accommodation_type       0\n",
              "cost                     0\n",
              "minimum_nights           0\n",
              "number_of_reviews        0\n",
              "reviews_per_month      676\n",
              "owner_id                 0\n",
              "owned_hotels             0\n",
              "yearly_availability      0\n",
              "dtype: int64"
            ]
          },
          "metadata": {},
          "execution_count": 153
        }
      ],
      "source": [
        "\n",
        "data.isnull().sum()"
      ]
    },
    {
      "cell_type": "code",
      "execution_count": null,
      "metadata": {
        "colab": {
          "base_uri": "https://localhost:8080/"
        },
        "id": "QRwPdEQWkAPS",
        "outputId": "86236a35-9fd1-4852-cd5b-417726977b28"
      },
      "outputs": [
        {
          "output_type": "stream",
          "name": "stdout",
          "text": [
            "before droping shape: (2194, 12)\n"
          ]
        }
      ],
      "source": [
        "print(f\"before droping shape: {df.shape}\")\n",
        "df = pd.read_csv('train.csv', sep=',').dropna()"
      ]
    },
    {
      "cell_type": "code",
      "execution_count": null,
      "metadata": {
        "colab": {
          "base_uri": "https://localhost:8080/"
        },
        "id": "9DmLrTfokDT5",
        "outputId": "77249235-4c42-44e2-c5d0-35f028e24f09"
      },
      "outputs": [
        {
          "output_type": "execute_result",
          "data": {
            "text/plain": [
              "id                     0\n",
              "region                 0\n",
              "latitude               0\n",
              "longitude              0\n",
              "accommodation_type     0\n",
              "cost                   0\n",
              "minimum_nights         0\n",
              "number_of_reviews      0\n",
              "reviews_per_month      0\n",
              "owner_id               0\n",
              "owned_hotels           0\n",
              "yearly_availability    0\n",
              "dtype: int64"
            ]
          },
          "metadata": {},
          "execution_count": 155
        }
      ],
      "source": [
        "df.isnull().sum()"
      ]
    },
    {
      "cell_type": "code",
      "execution_count": null,
      "metadata": {
        "colab": {
          "base_uri": "https://localhost:8080/"
        },
        "id": "jFUkSVJGkFpj",
        "outputId": "f1ea9846-2486-4158-d135-75cfcc9473c6"
      },
      "outputs": [
        {
          "output_type": "execute_result",
          "data": {
            "text/plain": [
              "(2194, 12)"
            ]
          },
          "metadata": {},
          "execution_count": 156
        }
      ],
      "source": [
        "df.shape"
      ]
    },
    {
      "cell_type": "code",
      "execution_count": null,
      "metadata": {
        "colab": {
          "base_uri": "https://localhost:8080/",
          "height": 309
        },
        "id": "2dfABGpikH_5",
        "outputId": "7edc2bb2-ef5a-4e42-d93e-8dd847f8f662"
      },
      "outputs": [
        {
          "output_type": "execute_result",
          "data": {
            "text/plain": [
              "Text(0, 0.5, 'Frequency')"
            ]
          },
          "metadata": {},
          "execution_count": 157
        },
        {
          "output_type": "display_data",
          "data": {
            "image/png": "[encoded data removed]",
            "text/plain": [
              "<Figure size 432x288 with 1 Axes>"
            ]
          },
          "metadata": {
            "needs_background": "light"
          }
        }
      ],
      "source": [
        "count_classes = pd.value_counts(df['yearly_availability'], sort = True).sort_index()\n",
        "count_classes.plot(kind = 'bar')\n",
        "plt.title(\"Available or Not Available\")\n",
        "plt.xlabel(\"Class\")\n",
        "plt.ylabel(\"Frequency\")"
      ]
    },
    {
      "cell_type": "code",
      "execution_count": null,
      "metadata": {
        "colab": {
          "base_uri": "https://localhost:8080/"
        },
        "id": "2PGc2k_1k6wR",
        "outputId": "5c292911-14c2-4b35-b3cd-919e5558341e"
      },
      "outputs": [
        {
          "output_type": "stream",
          "name": "stderr",
          "text": [
            "/usr/local/lib/python3.7/dist-packages/ipykernel_launcher.py:1: FutureWarning: Dropping of nuisance columns in DataFrame reductions (with 'numeric_only=None') is deprecated; in a future version this will raise TypeError.  Select only valid columns before calling the reduction.\n",
            "  \"\"\"Entry point for launching an IPython kernel.\n"
          ]
        }
      ],
      "source": [
        "data=data.fillna(data.mean())"
      ]
    },
    {
      "cell_type": "code",
      "execution_count": null,
      "metadata": {
        "colab": {
          "base_uri": "https://localhost:8080/"
        },
        "id": "6uVr4vNmmRhv",
        "outputId": "44582eed-2aa2-4835-d8f7-a1bf35d6a6f1"
      },
      "outputs": [
        {
          "output_type": "execute_result",
          "data": {
            "text/plain": [
              "id                     0\n",
              "region                 0\n",
              "latitude               0\n",
              "longitude              0\n",
              "accommodation_type     0\n",
              "cost                   0\n",
              "minimum_nights         0\n",
              "number_of_reviews      0\n",
              "reviews_per_month      0\n",
              "owner_id               0\n",
              "owned_hotels           0\n",
              "yearly_availability    0\n",
              "dtype: int64"
            ]
          },
          "metadata": {},
          "execution_count": 159
        }
      ],
      "source": [
        "data.isnull().sum()"
      ]
    },
    {
      "cell_type": "code",
      "execution_count": null,
      "metadata": {
        "id": "MlSax3eEmVD1"
      },
      "outputs": [],
      "source": [
        "# Region: string to categorical int\n",
        "# df['region']=df['region'].astype('category').cat.codes\n",
        "# df['accommodation_type']=df['accommodation_type'].astype('category').cat.codes\n",
        "for col in [\"region\", \"accommodation_type\", 'id', 'owner_id']:\n",
        "    data[col]=data[col].astype('category').cat.codes\n",
        "\n",
        "# print(df)"
      ]
    },
    {
      "cell_type": "code",
      "execution_count": null,
      "metadata": {
        "colab": {
          "base_uri": "https://localhost:8080/",
          "height": 615
        },
        "id": "zQdqbltVm7N9",
        "outputId": "b436ffb4-9ab6-4b54-9cc2-743b16e3960d"
      },
      "outputs": [
        {
          "output_type": "stream",
          "name": "stdout",
          "text": [
            "Index(['id', 'region', 'latitude', 'longitude', 'accommodation_type', 'cost',\n",
            "       'minimum_nights', 'number_of_reviews', 'reviews_per_month', 'owner_id',\n",
            "       'owned_hotels', 'yearly_availability'],\n",
            "      dtype='object')\n",
            "-  ----  -  -------  --------  -  ---  --  ---  ------  ----  --  -\n",
            "0   618  2  40.7185  -74.0044  0  170   5    7  0.56     141   1  0\n",
            "1    21  1  40.6445  -73.9503  0   65   3  238  2.3       59   1  0\n",
            "2   887  3  40.7857  -73.8106  1   85   1    0  1.1575   984   1  1\n",
            "3  1803  2  40.7386  -73.98    1  210  30    0  1.1575  2085  65  1\n",
            "4    31  2  40.8243  -73.9463  2   75   3   38  0.42     119   3  1\n",
            "-  ----  -  -------  --------  -  ---  --  ---  ------  ----  --  -\n"
          ]
        },
        {
          "output_type": "execute_result",
          "data": {
            "text/html": [
              "\n",
              "  <div id=\"df-d1669301-c03f-4d3a-a431-cfda62422829\">\n",
              "    <div class=\"colab-df-container\">\n",
              "      <div>\n",
              "<style scoped>\n",
              "    .dataframe tbody tr th:only-of-type {\n",
              "        vertical-align: middle;\n",
              "    }\n",
              "\n",
              "    .dataframe tbody tr th {\n",
              "        vertical-align: top;\n",
              "    }\n",
              "\n",
              "    .dataframe thead th {\n",
              "        text-align: right;\n",
              "    }\n",
              "</style>\n",
              "<table border=\"1\" class=\"dataframe\">\n",
              "  <thead>\n",
              "    <tr style=\"text-align: right;\">\n",
              "      <th></th>\n",
              "      <th>id</th>\n",
              "      <th>region</th>\n",
              "      <th>latitude</th>\n",
              "      <th>longitude</th>\n",
              "      <th>accommodation_type</th>\n",
              "      <th>cost</th>\n",
              "      <th>minimum_nights</th>\n",
              "      <th>number_of_reviews</th>\n",
              "      <th>reviews_per_month</th>\n",
              "      <th>owner_id</th>\n",
              "      <th>owned_hotels</th>\n",
              "      <th>yearly_availability</th>\n",
              "    </tr>\n",
              "  </thead>\n",
              "  <tbody>\n",
              "    <tr>\n",
              "      <th>0</th>\n",
              "      <td>618</td>\n",
              "      <td>2</td>\n",
              "      <td>40.71854</td>\n",
              "      <td>-74.00439</td>\n",
              "      <td>0</td>\n",
              "      <td>170</td>\n",
              "      <td>5</td>\n",
              "      <td>7</td>\n",
              "      <td>0.560000</td>\n",
              "      <td>141</td>\n",
              "      <td>1</td>\n",
              "      <td>0</td>\n",
              "    </tr>\n",
              "    <tr>\n",
              "      <th>1</th>\n",
              "      <td>21</td>\n",
              "      <td>1</td>\n",
              "      <td>40.64446</td>\n",
              "      <td>-73.95030</td>\n",
              "      <td>0</td>\n",
              "      <td>65</td>\n",
              "      <td>3</td>\n",
              "      <td>238</td>\n",
              "      <td>2.300000</td>\n",
              "      <td>59</td>\n",
              "      <td>1</td>\n",
              "      <td>0</td>\n",
              "    </tr>\n",
              "    <tr>\n",
              "      <th>2</th>\n",
              "      <td>887</td>\n",
              "      <td>3</td>\n",
              "      <td>40.78573</td>\n",
              "      <td>-73.81062</td>\n",
              "      <td>1</td>\n",
              "      <td>85</td>\n",
              "      <td>1</td>\n",
              "      <td>0</td>\n",
              "      <td>1.157502</td>\n",
              "      <td>984</td>\n",
              "      <td>1</td>\n",
              "      <td>1</td>\n",
              "    </tr>\n",
              "    <tr>\n",
              "      <th>3</th>\n",
              "      <td>1803</td>\n",
              "      <td>2</td>\n",
              "      <td>40.73863</td>\n",
              "      <td>-73.98002</td>\n",
              "      <td>1</td>\n",
              "      <td>210</td>\n",
              "      <td>30</td>\n",
              "      <td>0</td>\n",
              "      <td>1.157502</td>\n",
              "      <td>2085</td>\n",
              "      <td>65</td>\n",
              "      <td>1</td>\n",
              "    </tr>\n",
              "    <tr>\n",
              "      <th>4</th>\n",
              "      <td>31</td>\n",
              "      <td>2</td>\n",
              "      <td>40.82426</td>\n",
              "      <td>-73.94630</td>\n",
              "      <td>2</td>\n",
              "      <td>75</td>\n",
              "      <td>3</td>\n",
              "      <td>38</td>\n",
              "      <td>0.420000</td>\n",
              "      <td>119</td>\n",
              "      <td>3</td>\n",
              "      <td>1</td>\n",
              "    </tr>\n",
              "    <tr>\n",
              "      <th>...</th>\n",
              "      <td>...</td>\n",
              "      <td>...</td>\n",
              "      <td>...</td>\n",
              "      <td>...</td>\n",
              "      <td>...</td>\n",
              "      <td>...</td>\n",
              "      <td>...</td>\n",
              "      <td>...</td>\n",
              "      <td>...</td>\n",
              "      <td>...</td>\n",
              "      <td>...</td>\n",
              "      <td>...</td>\n",
              "    </tr>\n",
              "    <tr>\n",
              "      <th>2865</th>\n",
              "      <td>2793</td>\n",
              "      <td>2</td>\n",
              "      <td>40.74316</td>\n",
              "      <td>-73.98038</td>\n",
              "      <td>1</td>\n",
              "      <td>400</td>\n",
              "      <td>2</td>\n",
              "      <td>0</td>\n",
              "      <td>1.157502</td>\n",
              "      <td>2360</td>\n",
              "      <td>1</td>\n",
              "      <td>1</td>\n",
              "    </tr>\n",
              "    <tr>\n",
              "      <th>2866</th>\n",
              "      <td>1063</td>\n",
              "      <td>2</td>\n",
              "      <td>40.73523</td>\n",
              "      <td>-73.99465</td>\n",
              "      <td>1</td>\n",
              "      <td>180</td>\n",
              "      <td>3</td>\n",
              "      <td>2</td>\n",
              "      <td>0.070000</td>\n",
              "      <td>1735</td>\n",
              "      <td>1</td>\n",
              "      <td>1</td>\n",
              "    </tr>\n",
              "    <tr>\n",
              "      <th>2867</th>\n",
              "      <td>1147</td>\n",
              "      <td>2</td>\n",
              "      <td>40.76619</td>\n",
              "      <td>-73.98987</td>\n",
              "      <td>0</td>\n",
              "      <td>179</td>\n",
              "      <td>3</td>\n",
              "      <td>17</td>\n",
              "      <td>0.670000</td>\n",
              "      <td>768</td>\n",
              "      <td>1</td>\n",
              "      <td>0</td>\n",
              "    </tr>\n",
              "    <tr>\n",
              "      <th>2868</th>\n",
              "      <td>772</td>\n",
              "      <td>2</td>\n",
              "      <td>40.74637</td>\n",
              "      <td>-73.97207</td>\n",
              "      <td>1</td>\n",
              "      <td>200</td>\n",
              "      <td>30</td>\n",
              "      <td>0</td>\n",
              "      <td>1.157502</td>\n",
              "      <td>326</td>\n",
              "      <td>49</td>\n",
              "      <td>1</td>\n",
              "    </tr>\n",
              "    <tr>\n",
              "      <th>2869</th>\n",
              "      <td>151</td>\n",
              "      <td>2</td>\n",
              "      <td>40.79208</td>\n",
              "      <td>-73.96482</td>\n",
              "      <td>2</td>\n",
              "      <td>1000</td>\n",
              "      <td>30</td>\n",
              "      <td>24</td>\n",
              "      <td>0.330000</td>\n",
              "      <td>135</td>\n",
              "      <td>11</td>\n",
              "      <td>1</td>\n",
              "    </tr>\n",
              "  </tbody>\n",
              "</table>\n",
              "<p>2870 rows × 12 columns</p>\n",
              "</div>\n",
              "      <button class=\"colab-df-convert\" onclick=\"convertToInteractive('df-d1669301-c03f-4d3a-a431-cfda62422829')\"\n",
              "              title=\"Convert this dataframe to an interactive table.\"\n",
              "              style=\"display:none;\">\n",
              "        \n",
              "  <svg xmlns=\"http://www.w3.org/2000/svg\" height=\"24px\"viewBox=\"0 0 24 24\"\n",
              "       width=\"24px\">\n",
              "    <path d=\"M0 0h24v24H0V0z\" fill=\"none\"/>\n",
              "    <path d=\"M18.56 5.44l.94 2.06.94-2.06 2.06-.94-2.06-.94-.94-2.06-.94 2.06-2.06.94zm-11 1L8.5 8.5l.94-2.06 2.06-.94-2.06-.94L8.5 2.5l-.94 2.06-2.06.94zm10 10l.94 2.06.94-2.06 2.06-.94-2.06-.94-.94-2.06-.94 2.06-2.06.94z\"/><path d=\"M17.41 7.96l-1.37-1.37c-.4-.4-.92-.59-1.43-.59-.52 0-1.04.2-1.43.59L10.3 9.45l-7.72 7.72c-.78.78-.78 2.05 0 2.83L4 21.41c.39.39.9.59 1.41.59.51 0 1.02-.2 1.41-.59l7.78-7.78 2.81-2.81c.8-.78.8-2.07 0-2.86zM5.41 20L4 18.59l7.72-7.72 1.47 1.35L5.41 20z\"/>\n",
              "  </svg>\n",
              "      </button>\n",
              "      \n",
              "  <style>\n",
              "    .colab-df-container {\n",
              "      display:flex;\n",
              "      flex-wrap:wrap;\n",
              "      gap: 12px;\n",
              "    }\n",
              "\n",
              "    .colab-df-convert {\n",
              "      background-color: #E8F0FE;\n",
              "      border: none;\n",
              "      border-radius: 50%;\n",
              "      cursor: pointer;\n",
              "      display: none;\n",
              "      fill: #1967D2;\n",
              "      height: 32px;\n",
              "      padding: 0 0 0 0;\n",
              "      width: 32px;\n",
              "    }\n",
              "\n",
              "    .colab-df-convert:hover {\n",
              "      background-color: #E2EBFA;\n",
              "      box-shadow: 0px 1px 2px rgba(60, 64, 67, 0.3), 0px 1px 3px 1px rgba(60, 64, 67, 0.15);\n",
              "      fill: #174EA6;\n",
              "    }\n",
              "\n",
              "    [theme=dark] .colab-df-convert {\n",
              "      background-color: #3B4455;\n",
              "      fill: #D2E3FC;\n",
              "    }\n",
              "\n",
              "    [theme=dark] .colab-df-convert:hover {\n",
              "      background-color: #434B5C;\n",
              "      box-shadow: 0px 1px 3px 1px rgba(0, 0, 0, 0.15);\n",
              "      filter: drop-shadow(0px 1px 2px rgba(0, 0, 0, 0.3));\n",
              "      fill: #FFFFFF;\n",
              "    }\n",
              "  </style>\n",
              "\n",
              "      <script>\n",
              "        const buttonEl =\n",
              "          document.querySelector('#df-d1669301-c03f-4d3a-a431-cfda62422829 button.colab-df-convert');\n",
              "        buttonEl.style.display =\n",
              "          google.colab.kernel.accessAllowed ? 'block' : 'none';\n",
              "\n",
              "        async function convertToInteractive(key) {\n",
              "          const element = document.querySelector('#df-d1669301-c03f-4d3a-a431-cfda62422829');\n",
              "          const dataTable =\n",
              "            await google.colab.kernel.invokeFunction('convertToInteractive',\n",
              "                                                     [key], {});\n",
              "          if (!dataTable) return;\n",
              "\n",
              "          const docLinkHtml = 'Like what you see? Visit the ' +\n",
              "            '<a target=\"_blank\" href=https://colab.research.google.com/notebooks/data_table.ipynb>data table notebook</a>'\n",
              "            + ' to learn more about interactive tables.';\n",
              "          element.innerHTML = '';\n",
              "          dataTable['output_type'] = 'display_data';\n",
              "          await google.colab.output.renderOutput(dataTable, element);\n",
              "          const docLink = document.createElement('div');\n",
              "          docLink.innerHTML = docLinkHtml;\n",
              "          element.appendChild(docLink);\n",
              "        }\n",
              "      </script>\n",
              "    </div>\n",
              "  </div>\n",
              "  "
            ],
            "text/plain": [
              "        id  region  latitude  longitude  accommodation_type  cost  \\\n",
              "0      618       2  40.71854  -74.00439                   0   170   \n",
              "1       21       1  40.64446  -73.95030                   0    65   \n",
              "2      887       3  40.78573  -73.81062                   1    85   \n",
              "3     1803       2  40.73863  -73.98002                   1   210   \n",
              "4       31       2  40.82426  -73.94630                   2    75   \n",
              "...    ...     ...       ...        ...                 ...   ...   \n",
              "2865  2793       2  40.74316  -73.98038                   1   400   \n",
              "2866  1063       2  40.73523  -73.99465                   1   180   \n",
              "2867  1147       2  40.76619  -73.98987                   0   179   \n",
              "2868   772       2  40.74637  -73.97207                   1   200   \n",
              "2869   151       2  40.79208  -73.96482                   2  1000   \n",
              "\n",
              "      minimum_nights  number_of_reviews  reviews_per_month  owner_id  \\\n",
              "0                  5                  7           0.560000       141   \n",
              "1                  3                238           2.300000        59   \n",
              "2                  1                  0           1.157502       984   \n",
              "3                 30                  0           1.157502      2085   \n",
              "4                  3                 38           0.420000       119   \n",
              "...              ...                ...                ...       ...   \n",
              "2865               2                  0           1.157502      2360   \n",
              "2866               3                  2           0.070000      1735   \n",
              "2867               3                 17           0.670000       768   \n",
              "2868              30                  0           1.157502       326   \n",
              "2869              30                 24           0.330000       135   \n",
              "\n",
              "      owned_hotels  yearly_availability  \n",
              "0                1                    0  \n",
              "1                1                    0  \n",
              "2                1                    1  \n",
              "3               65                    1  \n",
              "4                3                    1  \n",
              "...            ...                  ...  \n",
              "2865             1                    1  \n",
              "2866             1                    1  \n",
              "2867             1                    0  \n",
              "2868            49                    1  \n",
              "2869            11                    1  \n",
              "\n",
              "[2870 rows x 12 columns]"
            ]
          },
          "metadata": {},
          "execution_count": 161
        }
      ],
      "source": [
        "from tabulate import tabulate\n",
        "print(data.columns)\n",
        "print(tabulate(data.head()))\n",
        "(data)"
      ]
    },
    {
      "cell_type": "code",
      "execution_count": null,
      "metadata": {
        "colab": {
          "base_uri": "https://localhost:8080/",
          "height": 1000
        },
        "id": "8o-LbE_qpEsX",
        "outputId": "7f391132-3af9-41a8-b0df-74c97ddcfa87"
      },
      "outputs": [
        {
          "output_type": "display_data",
          "data": {
            "image/png": "[encoded data removed]",
            "text/plain": [
              "<Figure size 432x288 with 1 Axes>"
            ]
          },
          "metadata": {
            "needs_background": "light"
          }
        },
        {
          "output_type": "display_data",
          "data": {
            "image/png": "[encoded data removed]",
            "text/plain": [
              "<Figure size 432x288 with 1 Axes>"
            ]
          },
          "metadata": {
            "needs_background": "light"
          }
        },
        {
          "output_type": "display_data",
          "data": {
            "image/png": "[encoded data removed]",
            "text/plain": [
              "<Figure size 432x288 with 1 Axes>"
            ]
          },
          "metadata": {
            "needs_background": "light"
          }
        },
        {
          "output_type": "display_data",
          "data": {
            "image/png": "[encoded data removed]",
            "text/plain": [
              "<Figure size 432x288 with 1 Axes>"
            ]
          },
          "metadata": {
            "needs_background": "light"
          }
        },
        {
          "output_type": "display_data",
          "data": {
            "image/png": "[encoded data removed]",
            "text/plain": [
              "<Figure size 432x288 with 1 Axes>"
            ]
          },
          "metadata": {
            "needs_background": "light"
          }
        },
        {
          "output_type": "display_data",
          "data": {
            "image/png": "[encoded data removed]",
            "text/plain": [
              "<Figure size 432x288 with 1 Axes>"
            ]
          },
          "metadata": {
            "needs_background": "light"
          }
        },
        {
          "output_type": "display_data",
          "data": {
            "image/png": "[encoded data removed]",
            "text/plain": [
              "<Figure size 432x288 with 1 Axes>"
            ]
          },
          "metadata": {
            "needs_background": "light"
          }
        },
        {
          "output_type": "display_data",
          "data": {
            "image/png": "[encoded data removed]",
            "text/plain": [
              "<Figure size 432x288 with 1 Axes>"
            ]
          },
          "metadata": {
            "needs_background": "light"
          }
        },
        {
          "output_type": "display_data",
          "data": {
            "image/png": "[encoded data removed]",
            "text/plain": [
              "<Figure size 432x288 with 1 Axes>"
            ]
          },
          "metadata": {
            "needs_background": "light"
          }
        },
        {
          "output_type": "display_data",
          "data": {
            "image/png": "[encoded data removed]",
            "text/plain": [
              "<Figure size 432x288 with 1 Axes>"
            ]
          },
          "metadata": {
            "needs_background": "light"
          }
        },
        {
          "output_type": "display_data",
          "data": {
            "image/png": "[encoded data removed]",
            "text/plain": [
              "<Figure size 432x288 with 1 Axes>"
            ]
          },
          "metadata": {
            "needs_background": "light"
          }
        },
        {
          "output_type": "display_data",
          "data": {
            "image/png": "[encoded data removed]",
            "text/plain": [
              "<Figure size 432x288 with 1 Axes>"
            ]
          },
          "metadata": {
            "needs_background": "light"
          }
        },
        {
          "output_type": "display_data",
          "data": {
            "text/plain": [
              "<Figure size 432x288 with 0 Axes>"
            ]
          },
          "metadata": {}
        }
      ],
      "source": [
        "# count_classes = pd.value_counts(df['yearly_availability'], sort = True).sort_index()\n",
        "# count_classes.plot(kind = 'bar')\n",
        "for col in data.columns:\n",
        "    plt.scatter(data[col], data['yearly_availability'])\n",
        "    plt.title(col)\n",
        "    plt.xlabel(col)\n",
        "    plt.ylabel(\"class-label\")\n",
        "    plt.show()\n",
        "    plt.clf()"
      ]
    },
    {
      "cell_type": "code",
      "execution_count": null,
      "metadata": {
        "colab": {
          "base_uri": "https://localhost:8080/",
          "height": 645
        },
        "id": "LrczO7b8rc4P",
        "outputId": "f0d01761-ebb9-459e-f65d-b792eeafb94a"
      },
      "outputs": [
        {
          "output_type": "display_data",
          "data": {
            "image/png": "[encoded data removed]",
            "text/plain": [
              "<Figure size 576x720 with 2 Axes>"
            ]
          },
          "metadata": {
            "needs_background": "light"
          }
        }
      ],
      "source": [
        "# Visualizing correlation coefficients between features and yearly_availability:\n",
        "fig = plt.figure(figsize=(8,10))\n",
        "ax = sns.heatmap(data.corr()[['yearly_availability']].sort_values('yearly_availability', ascending=False), annot = True, annot_kws = {\"size\":12}, cmap='Blues')\n",
        "ax.set_title('Correlation Coefficient Between Each Numeric Feature and yearly_availability', fontsize=18)\n",
        "ax.set_xlabel('Features', fontsize = 16)\n",
        "ax.set_ylabel('Features', fontsize = 16)\n",
        "ax.tick_params(axis = \"both\", labelsize = 12);\n",
        "y_min, y_max = ax.get_ylim()\n",
        "ax.set_ylim(top=y_max+1);"
      ]
    },
    {
      "cell_type": "code",
      "source": [
        "import sklearn\n",
        "from sklearn.preprocessing import StandardScaler\n",
        "from sklearn.model_selection import train_test_split, GridSearchCV, cross_val_score, StratifiedKFold\n",
        "from sklearn.linear_model import LogisticRegression"
      ],
      "metadata": {
        "id": "9aH_RF0Hxd52"
      },
      "execution_count": null,
      "outputs": []
    },
    {
      "cell_type": "code",
      "source": [
        "X_train = data.drop(columns=['yearly_availability','reviews_per_month'])\n",
        "y_train = data['yearly_availability']"
      ],
      "metadata": {
        "id": "i19wpp4txW_3"
      },
      "execution_count": null,
      "outputs": []
    },
    {
      "cell_type": "code",
      "source": [
        "#Loading Test data\n",
        "test_data=pd.read_csv('test.csv')\n",
        "test_data.head()"
      ],
      "metadata": {
        "colab": {
          "base_uri": "https://localhost:8080/",
          "height": 206
        },
        "id": "CgqNvYJNzFst",
        "outputId": "7f7e5006-1f20-4e00-c712-355db0aeb9b4"
      },
      "execution_count": null,
      "outputs": [
        {
          "output_type": "execute_result",
          "data": {
            "text/html": [
              "\n",
              "  <div id=\"df-1f11fa2f-ccbd-4b85-863b-c59f39aa5fb8\">\n",
              "    <div class=\"colab-df-container\">\n",
              "      <div>\n",
              "<style scoped>\n",
              "    .dataframe tbody tr th:only-of-type {\n",
              "        vertical-align: middle;\n",
              "    }\n",
              "\n",
              "    .dataframe tbody tr th {\n",
              "        vertical-align: top;\n",
              "    }\n",
              "\n",
              "    .dataframe thead th {\n",
              "        text-align: right;\n",
              "    }\n",
              "</style>\n",
              "<table border=\"1\" class=\"dataframe\">\n",
              "  <thead>\n",
              "    <tr style=\"text-align: right;\">\n",
              "      <th></th>\n",
              "      <th>id</th>\n",
              "      <th>region</th>\n",
              "      <th>latitude</th>\n",
              "      <th>longitude</th>\n",
              "      <th>accommodation_type</th>\n",
              "      <th>cost</th>\n",
              "      <th>minimum_nights</th>\n",
              "      <th>number_of_reviews</th>\n",
              "      <th>reviews_per_month</th>\n",
              "      <th>owner_id</th>\n",
              "      <th>owned_hotels</th>\n",
              "    </tr>\n",
              "  </thead>\n",
              "  <tbody>\n",
              "    <tr>\n",
              "      <th>0</th>\n",
              "      <td>19215</td>\n",
              "      <td>Brooklyn</td>\n",
              "      <td>40.70912</td>\n",
              "      <td>-73.94513</td>\n",
              "      <td>Shared room</td>\n",
              "      <td>135</td>\n",
              "      <td>2</td>\n",
              "      <td>22</td>\n",
              "      <td>0.66</td>\n",
              "      <td>4360212</td>\n",
              "      <td>1</td>\n",
              "    </tr>\n",
              "    <tr>\n",
              "      <th>1</th>\n",
              "      <td>36301</td>\n",
              "      <td>Brooklyn</td>\n",
              "      <td>40.57646</td>\n",
              "      <td>-73.96641</td>\n",
              "      <td>Entire home/apt</td>\n",
              "      <td>69</td>\n",
              "      <td>2</td>\n",
              "      <td>8</td>\n",
              "      <td>0.90</td>\n",
              "      <td>181356989</td>\n",
              "      <td>2</td>\n",
              "    </tr>\n",
              "    <tr>\n",
              "      <th>2</th>\n",
              "      <td>40566</td>\n",
              "      <td>Manhattan</td>\n",
              "      <td>40.76616</td>\n",
              "      <td>-73.98228</td>\n",
              "      <td>Private room</td>\n",
              "      <td>225</td>\n",
              "      <td>30</td>\n",
              "      <td>0</td>\n",
              "      <td>NaN</td>\n",
              "      <td>13773574</td>\n",
              "      <td>12</td>\n",
              "    </tr>\n",
              "    <tr>\n",
              "      <th>3</th>\n",
              "      <td>33694</td>\n",
              "      <td>Manhattan</td>\n",
              "      <td>40.77668</td>\n",
              "      <td>-73.94587</td>\n",
              "      <td>Shared room</td>\n",
              "      <td>125</td>\n",
              "      <td>30</td>\n",
              "      <td>9</td>\n",
              "      <td>0.82</td>\n",
              "      <td>6788748</td>\n",
              "      <td>1</td>\n",
              "    </tr>\n",
              "    <tr>\n",
              "      <th>4</th>\n",
              "      <td>28873</td>\n",
              "      <td>Manhattan</td>\n",
              "      <td>40.80279</td>\n",
              "      <td>-73.94450</td>\n",
              "      <td>Entire home/apt</td>\n",
              "      <td>43</td>\n",
              "      <td>1</td>\n",
              "      <td>13</td>\n",
              "      <td>0.72</td>\n",
              "      <td>105061915</td>\n",
              "      <td>2</td>\n",
              "    </tr>\n",
              "  </tbody>\n",
              "</table>\n",
              "</div>\n",
              "      <button class=\"colab-df-convert\" onclick=\"convertToInteractive('df-1f11fa2f-ccbd-4b85-863b-c59f39aa5fb8')\"\n",
              "              title=\"Convert this dataframe to an interactive table.\"\n",
              "              style=\"display:none;\">\n",
              "        \n",
              "  <svg xmlns=\"http://www.w3.org/2000/svg\" height=\"24px\"viewBox=\"0 0 24 24\"\n",
              "       width=\"24px\">\n",
              "    <path d=\"M0 0h24v24H0V0z\" fill=\"none\"/>\n",
              "    <path d=\"M18.56 5.44l.94 2.06.94-2.06 2.06-.94-2.06-.94-.94-2.06-.94 2.06-2.06.94zm-11 1L8.5 8.5l.94-2.06 2.06-.94-2.06-.94L8.5 2.5l-.94 2.06-2.06.94zm10 10l.94 2.06.94-2.06 2.06-.94-2.06-.94-.94-2.06-.94 2.06-2.06.94z\"/><path d=\"M17.41 7.96l-1.37-1.37c-.4-.4-.92-.59-1.43-.59-.52 0-1.04.2-1.43.59L10.3 9.45l-7.72 7.72c-.78.78-.78 2.05 0 2.83L4 21.41c.39.39.9.59 1.41.59.51 0 1.02-.2 1.41-.59l7.78-7.78 2.81-2.81c.8-.78.8-2.07 0-2.86zM5.41 20L4 18.59l7.72-7.72 1.47 1.35L5.41 20z\"/>\n",
              "  </svg>\n",
              "      </button>\n",
              "      \n",
              "  <style>\n",
              "    .colab-df-container {\n",
              "      display:flex;\n",
              "      flex-wrap:wrap;\n",
              "      gap: 12px;\n",
              "    }\n",
              "\n",
              "    .colab-df-convert {\n",
              "      background-color: #E8F0FE;\n",
              "      border: none;\n",
              "      border-radius: 50%;\n",
              "      cursor: pointer;\n",
              "      display: none;\n",
              "      fill: #1967D2;\n",
              "      height: 32px;\n",
              "      padding: 0 0 0 0;\n",
              "      width: 32px;\n",
              "    }\n",
              "\n",
              "    .colab-df-convert:hover {\n",
              "      background-color: #E2EBFA;\n",
              "      box-shadow: 0px 1px 2px rgba(60, 64, 67, 0.3), 0px 1px 3px 1px rgba(60, 64, 67, 0.15);\n",
              "      fill: #174EA6;\n",
              "    }\n",
              "\n",
              "    [theme=dark] .colab-df-convert {\n",
              "      background-color: #3B4455;\n",
              "      fill: #D2E3FC;\n",
              "    }\n",
              "\n",
              "    [theme=dark] .colab-df-convert:hover {\n",
              "      background-color: #434B5C;\n",
              "      box-shadow: 0px 1px 3px 1px rgba(0, 0, 0, 0.15);\n",
              "      filter: drop-shadow(0px 1px 2px rgba(0, 0, 0, 0.3));\n",
              "      fill: #FFFFFF;\n",
              "    }\n",
              "  </style>\n",
              "\n",
              "      <script>\n",
              "        const buttonEl =\n",
              "          document.querySelector('#df-1f11fa2f-ccbd-4b85-863b-c59f39aa5fb8 button.colab-df-convert');\n",
              "        buttonEl.style.display =\n",
              "          google.colab.kernel.accessAllowed ? 'block' : 'none';\n",
              "\n",
              "        async function convertToInteractive(key) {\n",
              "          const element = document.querySelector('#df-1f11fa2f-ccbd-4b85-863b-c59f39aa5fb8');\n",
              "          const dataTable =\n",
              "            await google.colab.kernel.invokeFunction('convertToInteractive',\n",
              "                                                     [key], {});\n",
              "          if (!dataTable) return;\n",
              "\n",
              "          const docLinkHtml = 'Like what you see? Visit the ' +\n",
              "            '<a target=\"_blank\" href=https://colab.research.google.com/notebooks/data_table.ipynb>data table notebook</a>'\n",
              "            + ' to learn more about interactive tables.';\n",
              "          element.innerHTML = '';\n",
              "          dataTable['output_type'] = 'display_data';\n",
              "          await google.colab.output.renderOutput(dataTable, element);\n",
              "          const docLink = document.createElement('div');\n",
              "          docLink.innerHTML = docLinkHtml;\n",
              "          element.appendChild(docLink);\n",
              "        }\n",
              "      </script>\n",
              "    </div>\n",
              "  </div>\n",
              "  "
            ],
            "text/plain": [
              "      id     region  latitude  longitude accommodation_type  cost  \\\n",
              "0  19215   Brooklyn  40.70912  -73.94513        Shared room   135   \n",
              "1  36301   Brooklyn  40.57646  -73.96641    Entire home/apt    69   \n",
              "2  40566  Manhattan  40.76616  -73.98228       Private room   225   \n",
              "3  33694  Manhattan  40.77668  -73.94587        Shared room   125   \n",
              "4  28873  Manhattan  40.80279  -73.94450    Entire home/apt    43   \n",
              "\n",
              "   minimum_nights  number_of_reviews  reviews_per_month   owner_id  \\\n",
              "0               2                 22               0.66    4360212   \n",
              "1               2                  8               0.90  181356989   \n",
              "2              30                  0                NaN   13773574   \n",
              "3              30                  9               0.82    6788748   \n",
              "4               1                 13               0.72  105061915   \n",
              "\n",
              "   owned_hotels  \n",
              "0             1  \n",
              "1             2  \n",
              "2            12  \n",
              "3             1  \n",
              "4             2  "
            ]
          },
          "metadata": {},
          "execution_count": 166
        }
      ]
    },
    {
      "cell_type": "code",
      "source": [
        "test_data=test_data.fillna(test_data.mean())"
      ],
      "metadata": {
        "colab": {
          "base_uri": "https://localhost:8080/"
        },
        "id": "1nMqK70GyC8F",
        "outputId": "5b627154-4755-456d-d1e3-1d493a5ee86a"
      },
      "execution_count": null,
      "outputs": [
        {
          "output_type": "stream",
          "name": "stderr",
          "text": [
            "/usr/local/lib/python3.7/dist-packages/ipykernel_launcher.py:1: FutureWarning: Dropping of nuisance columns in DataFrame reductions (with 'numeric_only=None') is deprecated; in a future version this will raise TypeError.  Select only valid columns before calling the reduction.\n",
            "  \"\"\"Entry point for launching an IPython kernel.\n"
          ]
        }
      ]
    },
    {
      "cell_type": "code",
      "source": [
        "for col in [\"region\", \"accommodation_type\", 'id', 'owner_id']:\n",
        "    test_data[col]=test_data[col].astype('category').cat.codes\n",
        "test_data.head(10)"
      ],
      "metadata": {
        "colab": {
          "base_uri": "https://localhost:8080/",
          "height": 363
        },
        "id": "W96atGCoyFuw",
        "outputId": "3cf4fc12-a25e-4169-9589-c25cdf8f44e7"
      },
      "execution_count": null,
      "outputs": [
        {
          "output_type": "execute_result",
          "data": {
            "text/html": [
              "\n",
              "  <div id=\"df-4c44e0b3-a146-4b9a-a67c-fd135a3c411c\">\n",
              "    <div class=\"colab-df-container\">\n",
              "      <div>\n",
              "<style scoped>\n",
              "    .dataframe tbody tr th:only-of-type {\n",
              "        vertical-align: middle;\n",
              "    }\n",
              "\n",
              "    .dataframe tbody tr th {\n",
              "        vertical-align: top;\n",
              "    }\n",
              "\n",
              "    .dataframe thead th {\n",
              "        text-align: right;\n",
              "    }\n",
              "</style>\n",
              "<table border=\"1\" class=\"dataframe\">\n",
              "  <thead>\n",
              "    <tr style=\"text-align: right;\">\n",
              "      <th></th>\n",
              "      <th>id</th>\n",
              "      <th>region</th>\n",
              "      <th>latitude</th>\n",
              "      <th>longitude</th>\n",
              "      <th>accommodation_type</th>\n",
              "      <th>cost</th>\n",
              "      <th>minimum_nights</th>\n",
              "      <th>number_of_reviews</th>\n",
              "      <th>reviews_per_month</th>\n",
              "      <th>owner_id</th>\n",
              "      <th>owned_hotels</th>\n",
              "    </tr>\n",
              "  </thead>\n",
              "  <tbody>\n",
              "    <tr>\n",
              "      <th>0</th>\n",
              "      <td>214</td>\n",
              "      <td>1</td>\n",
              "      <td>40.70912</td>\n",
              "      <td>-73.94513</td>\n",
              "      <td>2</td>\n",
              "      <td>135</td>\n",
              "      <td>2</td>\n",
              "      <td>22</td>\n",
              "      <td>0.660000</td>\n",
              "      <td>116</td>\n",
              "      <td>1</td>\n",
              "    </tr>\n",
              "    <tr>\n",
              "      <th>1</th>\n",
              "      <td>474</td>\n",
              "      <td>1</td>\n",
              "      <td>40.57646</td>\n",
              "      <td>-73.96641</td>\n",
              "      <td>0</td>\n",
              "      <td>69</td>\n",
              "      <td>2</td>\n",
              "      <td>8</td>\n",
              "      <td>0.900000</td>\n",
              "      <td>540</td>\n",
              "      <td>2</td>\n",
              "    </tr>\n",
              "    <tr>\n",
              "      <th>2</th>\n",
              "      <td>550</td>\n",
              "      <td>2</td>\n",
              "      <td>40.76616</td>\n",
              "      <td>-73.98228</td>\n",
              "      <td>1</td>\n",
              "      <td>225</td>\n",
              "      <td>30</td>\n",
              "      <td>0</td>\n",
              "      <td>1.200385</td>\n",
              "      <td>214</td>\n",
              "      <td>12</td>\n",
              "    </tr>\n",
              "    <tr>\n",
              "      <th>3</th>\n",
              "      <td>415</td>\n",
              "      <td>2</td>\n",
              "      <td>40.77668</td>\n",
              "      <td>-73.94587</td>\n",
              "      <td>2</td>\n",
              "      <td>125</td>\n",
              "      <td>30</td>\n",
              "      <td>9</td>\n",
              "      <td>0.820000</td>\n",
              "      <td>159</td>\n",
              "      <td>1</td>\n",
              "    </tr>\n",
              "    <tr>\n",
              "      <th>4</th>\n",
              "      <td>338</td>\n",
              "      <td>2</td>\n",
              "      <td>40.80279</td>\n",
              "      <td>-73.94450</td>\n",
              "      <td>0</td>\n",
              "      <td>43</td>\n",
              "      <td>1</td>\n",
              "      <td>13</td>\n",
              "      <td>0.720000</td>\n",
              "      <td>456</td>\n",
              "      <td>2</td>\n",
              "    </tr>\n",
              "    <tr>\n",
              "      <th>5</th>\n",
              "      <td>488</td>\n",
              "      <td>2</td>\n",
              "      <td>40.71161</td>\n",
              "      <td>-74.00665</td>\n",
              "      <td>1</td>\n",
              "      <td>57</td>\n",
              "      <td>9</td>\n",
              "      <td>3</td>\n",
              "      <td>0.360000</td>\n",
              "      <td>410</td>\n",
              "      <td>2</td>\n",
              "    </tr>\n",
              "    <tr>\n",
              "      <th>6</th>\n",
              "      <td>382</td>\n",
              "      <td>2</td>\n",
              "      <td>40.83856</td>\n",
              "      <td>-73.94411</td>\n",
              "      <td>0</td>\n",
              "      <td>65</td>\n",
              "      <td>3</td>\n",
              "      <td>23</td>\n",
              "      <td>1.650000</td>\n",
              "      <td>99</td>\n",
              "      <td>1</td>\n",
              "    </tr>\n",
              "    <tr>\n",
              "      <th>7</th>\n",
              "      <td>314</td>\n",
              "      <td>2</td>\n",
              "      <td>40.80791</td>\n",
              "      <td>-73.94700</td>\n",
              "      <td>1</td>\n",
              "      <td>97</td>\n",
              "      <td>2</td>\n",
              "      <td>5</td>\n",
              "      <td>0.260000</td>\n",
              "      <td>143</td>\n",
              "      <td>1</td>\n",
              "    </tr>\n",
              "    <tr>\n",
              "      <th>8</th>\n",
              "      <td>256</td>\n",
              "      <td>1</td>\n",
              "      <td>40.71232</td>\n",
              "      <td>-73.96067</td>\n",
              "      <td>0</td>\n",
              "      <td>88</td>\n",
              "      <td>4</td>\n",
              "      <td>6</td>\n",
              "      <td>0.240000</td>\n",
              "      <td>156</td>\n",
              "      <td>1</td>\n",
              "    </tr>\n",
              "    <tr>\n",
              "      <th>9</th>\n",
              "      <td>266</td>\n",
              "      <td>1</td>\n",
              "      <td>40.67602</td>\n",
              "      <td>-73.96593</td>\n",
              "      <td>0</td>\n",
              "      <td>225</td>\n",
              "      <td>5</td>\n",
              "      <td>0</td>\n",
              "      <td>1.200385</td>\n",
              "      <td>202</td>\n",
              "      <td>2</td>\n",
              "    </tr>\n",
              "  </tbody>\n",
              "</table>\n",
              "</div>\n",
              "      <button class=\"colab-df-convert\" onclick=\"convertToInteractive('df-4c44e0b3-a146-4b9a-a67c-fd135a3c411c')\"\n",
              "              title=\"Convert this dataframe to an interactive table.\"\n",
              "              style=\"display:none;\">\n",
              "        \n",
              "  <svg xmlns=\"http://www.w3.org/2000/svg\" height=\"24px\"viewBox=\"0 0 24 24\"\n",
              "       width=\"24px\">\n",
              "    <path d=\"M0 0h24v24H0V0z\" fill=\"none\"/>\n",
              "    <path d=\"M18.56 5.44l.94 2.06.94-2.06 2.06-.94-2.06-.94-.94-2.06-.94 2.06-2.06.94zm-11 1L8.5 8.5l.94-2.06 2.06-.94-2.06-.94L8.5 2.5l-.94 2.06-2.06.94zm10 10l.94 2.06.94-2.06 2.06-.94-2.06-.94-.94-2.06-.94 2.06-2.06.94z\"/><path d=\"M17.41 7.96l-1.37-1.37c-.4-.4-.92-.59-1.43-.59-.52 0-1.04.2-1.43.59L10.3 9.45l-7.72 7.72c-.78.78-.78 2.05 0 2.83L4 21.41c.39.39.9.59 1.41.59.51 0 1.02-.2 1.41-.59l7.78-7.78 2.81-2.81c.8-.78.8-2.07 0-2.86zM5.41 20L4 18.59l7.72-7.72 1.47 1.35L5.41 20z\"/>\n",
              "  </svg>\n",
              "      </button>\n",
              "      \n",
              "  <style>\n",
              "    .colab-df-container {\n",
              "      display:flex;\n",
              "      flex-wrap:wrap;\n",
              "      gap: 12px;\n",
              "    }\n",
              "\n",
              "    .colab-df-convert {\n",
              "      background-color: #E8F0FE;\n",
              "      border: none;\n",
              "      border-radius: 50%;\n",
              "      cursor: pointer;\n",
              "      display: none;\n",
              "      fill: #1967D2;\n",
              "      height: 32px;\n",
              "      padding: 0 0 0 0;\n",
              "      width: 32px;\n",
              "    }\n",
              "\n",
              "    .colab-df-convert:hover {\n",
              "      background-color: #E2EBFA;\n",
              "      box-shadow: 0px 1px 2px rgba(60, 64, 67, 0.3), 0px 1px 3px 1px rgba(60, 64, 67, 0.15);\n",
              "      fill: #174EA6;\n",
              "    }\n",
              "\n",
              "    [theme=dark] .colab-df-convert {\n",
              "      background-color: #3B4455;\n",
              "      fill: #D2E3FC;\n",
              "    }\n",
              "\n",
              "    [theme=dark] .colab-df-convert:hover {\n",
              "      background-color: #434B5C;\n",
              "      box-shadow: 0px 1px 3px 1px rgba(0, 0, 0, 0.15);\n",
              "      filter: drop-shadow(0px 1px 2px rgba(0, 0, 0, 0.3));\n",
              "      fill: #FFFFFF;\n",
              "    }\n",
              "  </style>\n",
              "\n",
              "      <script>\n",
              "        const buttonEl =\n",
              "          document.querySelector('#df-4c44e0b3-a146-4b9a-a67c-fd135a3c411c button.colab-df-convert');\n",
              "        buttonEl.style.display =\n",
              "          google.colab.kernel.accessAllowed ? 'block' : 'none';\n",
              "\n",
              "        async function convertToInteractive(key) {\n",
              "          const element = document.querySelector('#df-4c44e0b3-a146-4b9a-a67c-fd135a3c411c');\n",
              "          const dataTable =\n",
              "            await google.colab.kernel.invokeFunction('convertToInteractive',\n",
              "                                                     [key], {});\n",
              "          if (!dataTable) return;\n",
              "\n",
              "          const docLinkHtml = 'Like what you see? Visit the ' +\n",
              "            '<a target=\"_blank\" href=https://colab.research.google.com/notebooks/data_table.ipynb>data table notebook</a>'\n",
              "            + ' to learn more about interactive tables.';\n",
              "          element.innerHTML = '';\n",
              "          dataTable['output_type'] = 'display_data';\n",
              "          await google.colab.output.renderOutput(dataTable, element);\n",
              "          const docLink = document.createElement('div');\n",
              "          docLink.innerHTML = docLinkHtml;\n",
              "          element.appendChild(docLink);\n",
              "        }\n",
              "      </script>\n",
              "    </div>\n",
              "  </div>\n",
              "  "
            ],
            "text/plain": [
              "    id  region  latitude  longitude  accommodation_type  cost  minimum_nights  \\\n",
              "0  214       1  40.70912  -73.94513                   2   135               2   \n",
              "1  474       1  40.57646  -73.96641                   0    69               2   \n",
              "2  550       2  40.76616  -73.98228                   1   225              30   \n",
              "3  415       2  40.77668  -73.94587                   2   125              30   \n",
              "4  338       2  40.80279  -73.94450                   0    43               1   \n",
              "5  488       2  40.71161  -74.00665                   1    57               9   \n",
              "6  382       2  40.83856  -73.94411                   0    65               3   \n",
              "7  314       2  40.80791  -73.94700                   1    97               2   \n",
              "8  256       1  40.71232  -73.96067                   0    88               4   \n",
              "9  266       1  40.67602  -73.96593                   0   225               5   \n",
              "\n",
              "   number_of_reviews  reviews_per_month  owner_id  owned_hotels  \n",
              "0                 22           0.660000       116             1  \n",
              "1                  8           0.900000       540             2  \n",
              "2                  0           1.200385       214            12  \n",
              "3                  9           0.820000       159             1  \n",
              "4                 13           0.720000       456             2  \n",
              "5                  3           0.360000       410             2  \n",
              "6                 23           1.650000        99             1  \n",
              "7                  5           0.260000       143             1  \n",
              "8                  6           0.240000       156             1  \n",
              "9                  0           1.200385       202             2  "
            ]
          },
          "metadata": {},
          "execution_count": 168
        }
      ]
    },
    {
      "cell_type": "code",
      "source": [
        "import numpy as np\n",
        "X_test = test_data.drop(columns=['reviews_per_month'])\n",
        "y_test = np.ones(len(test_data)) # random intialization"
      ],
      "metadata": {
        "id": "YcvnKJlTyH7D"
      },
      "execution_count": null,
      "outputs": []
    },
    {
      "cell_type": "code",
      "source": [
        "# Construct Grid Parameters\n",
        "lg_params = {\n",
        "    'penalty': ['l1'], \n",
        "    'C': [3.5],\n",
        "    'max_iter': [300]\n",
        "}\n",
        "\n",
        "# Perform Grid Search\n",
        "lg_gs = GridSearchCV(LogisticRegression(solver='liblinear', random_state=42),\n",
        "                 lg_params,\n",
        "                 cv = 5,\n",
        "                 scoring = 'accuracy')\n",
        "lg = lg_gs.fit(X_train, y_train)\n",
        "# Scoring \n",
        "print(f'Best Training Accuracy: {lg.score(X_train, y_train)}')\n",
        "print(f'Best Testing Accuracy: {lg.score(X_test, y_test)}')"
      ],
      "metadata": {
        "colab": {
          "base_uri": "https://localhost:8080/"
        },
        "id": "hZAtRqGgz0wv",
        "outputId": "9d1ba13c-6b8e-4860-e1db-807bbe064c8b"
      },
      "execution_count": null,
      "outputs": [
        {
          "output_type": "stream",
          "name": "stdout",
          "text": [
            "Best Training Accuracy: 0.7599303135888502\n",
            "Best Testing Accuracy: 0.6253481894150418\n"
          ]
        }
      ]
    },
    {
      "cell_type": "code",
      "source": [
        "for col in df.columns:\n",
        "    if col == \"yearly_availability\": continue;\n",
        "    X_train = data.drop(columns=['yearly_availability',col])\n",
        "    y_train = data['yearly_availability']\n",
        "    X_test = test_data.drop(columns=[col])\n",
        "    y_test = np.ones(len(test_data)) # random intialization\n",
        "    # Construct Grid Parameters\n",
        "    lg_params = {\n",
        "        'penalty': ['l1'], \n",
        "        'C': [3.5],\n",
        "        'max_iter': [300]\n",
        "    }\n",
        "\n",
        "    # Perform Grid Search\n",
        "    lg_gs = GridSearchCV(LogisticRegression(solver='liblinear', random_state=42),\n",
        "                    lg_params,\n",
        "                    cv = 5,\n",
        "                    scoring = 'accuracy')\n",
        "    lg = lg_gs.fit(X_train, y_train)\n",
        "    # Scoring \n",
        "    print(col, \"dropped\")\n",
        "    print(f'\\tBest Training Accuracy: {lg.score(X_train, y_train)}')\n",
        "    print(f'\\tBest Testing Accuracy: {lg.score(X_test, y_test)}')"
      ],
      "metadata": {
        "id": "QAiWoDt_z4uU",
        "colab": {
          "base_uri": "https://localhost:8080/"
        },
        "outputId": "a7c218c3-f2a4-4bb7-98ec-bcf2f7de54d5"
      },
      "execution_count": null,
      "outputs": [
        {
          "output_type": "stream",
          "name": "stdout",
          "text": [
            "id dropped\n",
            "\tBest Training Accuracy: 0.6951219512195121\n",
            "\tBest Testing Accuracy: 0.3816155988857939\n",
            "region dropped\n",
            "\tBest Training Accuracy: 0.7602787456445993\n",
            "\tBest Testing Accuracy: 0.6225626740947076\n",
            "latitude dropped\n",
            "\tBest Training Accuracy: 0.7602787456445993\n",
            "\tBest Testing Accuracy: 0.6253481894150418\n",
            "longitude dropped\n",
            "\tBest Training Accuracy: 0.7606271777003484\n",
            "\tBest Testing Accuracy: 0.6253481894150418\n",
            "accommodation_type dropped\n",
            "\tBest Training Accuracy: 0.6996515679442509\n",
            "\tBest Testing Accuracy: 0.5292479108635098\n",
            "cost dropped\n",
            "\tBest Training Accuracy: 0.7501742160278746\n",
            "\tBest Testing Accuracy: 0.6545961002785515\n",
            "minimum_nights dropped\n",
            "\tBest Training Accuracy: 0.7494773519163763\n",
            "\tBest Testing Accuracy: 0.6434540389972145\n",
            "number_of_reviews dropped\n",
            "\tBest Training Accuracy: 0.7578397212543554\n",
            "\tBest Testing Accuracy: 0.5389972144846796\n",
            "reviews_per_month dropped\n",
            "\tBest Training Accuracy: 0.7599303135888502\n",
            "\tBest Testing Accuracy: 0.6253481894150418\n",
            "owner_id dropped\n",
            "\tBest Training Accuracy: 0.705574912891986\n",
            "\tBest Testing Accuracy: 0.6740947075208914\n",
            "owned_hotels dropped\n",
            "\tBest Training Accuracy: 0.7578397212543554\n",
            "\tBest Testing Accuracy: 0.6267409470752089\n"
          ]
        }
      ]
    },
    {
      "cell_type": "code",
      "source": [
        "X_train = data.drop(columns=['yearly_availability','cost', 'minimum_nights','owner_id', 'region', 'latitude', 'longitude', 'owned_hotels', 'reviews_per_month'])\n",
        "y_train = data['yearly_availability']\n",
        "X_test = test_data.drop(columns=['cost', 'minimum_nights','owner_id', 'latitude', 'region', 'longitude', 'owned_hotels', 'reviews_per_month'])\n",
        "y_test = np.ones(len(test_data)) # random intialization\n",
        "# Construct Grid Parameters\n",
        "lg_params = {\n",
        "    'penalty': ['l1'], \n",
        "    'C': [3.5],\n",
        "    'max_iter': [300]\n",
        "}\n",
        "\n",
        "# Perform Grid Search\n",
        "lg_gs = GridSearchCV(LogisticRegression(solver='liblinear', random_state=42),\n",
        "                lg_params,\n",
        "                cv = 5,\n",
        "                scoring = 'accuracy')\n",
        "lg = lg_gs.fit(X_train, y_train)\n",
        "# Scoring \n",
        "print('cost', 'minimum_nights','owner_id', 'latitude', 'region', 'longitude', 'owned_hotels', 'reviews_per_month', \"dropped\")\n",
        "print(f'\\tBest Training Accuracy: {lg.score(X_train, y_train)}')\n",
        "print(f'\\tBest Testing Accuracy: {lg.score(X_test, y_test)}')"
      ],
      "metadata": {
        "colab": {
          "base_uri": "https://localhost:8080/"
        },
        "id": "zat8fc4L5O0v",
        "outputId": "b69d028d-a5fa-4348-f6b0-1d5344849963"
      },
      "execution_count": null,
      "outputs": [
        {
          "output_type": "stream",
          "name": "stdout",
          "text": [
            "cost minimum_nights owner_id latitude region longitude owned_hotels reviews_per_month dropped\n",
            "\tBest Training Accuracy: 0.6885017421602787\n",
            "\tBest Testing Accuracy: 0.7367688022284122\n"
          ]
        }
      ]
    },
    {
      "cell_type": "code",
      "source": [
        "X_train = data.drop(columns=['yearly_availability','cost', 'minimum_nights','owner_id'])\n",
        "y_train = data['yearly_availability']\n",
        "X_test = test_data.drop(columns=['cost', 'minimum_nights','owner_id'])\n",
        "y_test = np.ones(len(test_data)) # random intialization\n",
        "# Construct Grid Parameters\n",
        "lg_params = {\n",
        "    'penalty': ['l1'], \n",
        "    'C': [3.5],\n",
        "    'max_iter': [300]\n",
        "}\n",
        "\n",
        "# Perform Grid Search\n",
        "lg_gs = GridSearchCV(LogisticRegression(solver='liblinear', random_state=42),\n",
        "                lg_params,\n",
        "                cv = 5,\n",
        "                scoring = 'accuracy')\n",
        "lg = lg_gs.fit(X_train, y_train)\n",
        "# Scoring \n",
        "print('cost', 'minimum_nights','owner_id', \"dropped\")\n",
        "print(f'\\tBest Training Accuracy: {lg.score(X_train, y_train)}')\n",
        "print(f'\\tBest Testing Accuracy: {lg.score(X_test, y_test)}')\n"
      ],
      "metadata": {
        "colab": {
          "base_uri": "https://localhost:8080/"
        },
        "id": "wVIhk0An6KaI",
        "outputId": "45671b08-6e3e-45e7-ef3b-debf1eefd790"
      },
      "execution_count": null,
      "outputs": [
        {
          "output_type": "stream",
          "name": "stdout",
          "text": [
            "cost minimum_nights owner_id dropped\n",
            "\tBest Training Accuracy: 0.6930313588850174\n",
            "\tBest Testing Accuracy: 0.6838440111420613\n"
          ]
        }
      ]
    },
    {
      "cell_type": "code",
      "source": [
        "for col in ['number_of_reviews','id','accommodation_type']:\n",
        "    plt.scatter(data[col], data['yearly_availability'])\n",
        "    plt.title(col)\n",
        "    plt.xlabel(col)\n",
        "    plt.ylabel(\"class-label\")\n",
        "    plt.show()\n",
        "    plt.clf()"
      ],
      "metadata": {
        "colab": {
          "base_uri": "https://localhost:8080/",
          "height": 870
        },
        "id": "4xHMrYVV7eqK",
        "outputId": "8a3c0169-7204-4450-804e-72003e274ce8"
      },
      "execution_count": null,
      "outputs": [
        {
          "output_type": "display_data",
          "data": {
            "image/png": "[encoded data removed]",
            "text/plain": [
              "<Figure size 432x288 with 1 Axes>"
            ]
          },
          "metadata": {
            "needs_background": "light"
          }
        },
        {
          "output_type": "display_data",
          "data": {
            "image/png": "[encoded data removed]",
            "text/plain": [
              "<Figure size 432x288 with 1 Axes>"
            ]
          },
          "metadata": {
            "needs_background": "light"
          }
        },
        {
          "output_type": "display_data",
          "data": {
            "image/png": "[encoded data removed]",
            "text/plain": [
              "<Figure size 432x288 with 1 Axes>"
            ]
          },
          "metadata": {
            "needs_background": "light"
          }
        },
        {
          "output_type": "display_data",
          "data": {
            "text/plain": [
              "<Figure size 432x288 with 0 Axes>"
            ]
          },
          "metadata": {}
        }
      ]
    },
    {
      "cell_type": "code",
      "source": [
        "data['yearly_availability'][data['yearly_availability']==1]\n"
      ],
      "metadata": {
        "colab": {
          "base_uri": "https://localhost:8080/"
        },
        "id": "UYd7LNz674jJ",
        "outputId": "80054566-a103-4774-f44a-4dba6e754112"
      },
      "execution_count": null,
      "outputs": [
        {
          "output_type": "execute_result",
          "data": {
            "text/plain": [
              "2       1\n",
              "3       1\n",
              "4       1\n",
              "5       1\n",
              "9       1\n",
              "       ..\n",
              "2864    1\n",
              "2865    1\n",
              "2866    1\n",
              "2868    1\n",
              "2869    1\n",
              "Name: yearly_availability, Length: 1431, dtype: int64"
            ]
          },
          "metadata": {},
          "execution_count": 186
        }
      ]
    },
    {
      "cell_type": "code",
      "source": [
        "\n",
        "plt.scatter(data['number_of_reviews'][data['yearly_availability']==1], data['id'][data['yearly_availability']==1], color= 'r')\n",
        "plt.scatter(data['number_of_reviews'][data['yearly_availability']==0], data['id'][data['yearly_availability']==0], color= 'b')\n",
        "plt.title(col)\n",
        "plt.xlabel(\"number_of_reviews\")\n",
        "plt.ylabel('id')\n",
        "plt.show()\n",
        "plt.clf()"
      ],
      "metadata": {
        "colab": {
          "base_uri": "https://localhost:8080/",
          "height": 313
        },
        "id": "E8A151jd8OgQ",
        "outputId": "70ef3642-da68-4d80-c636-90f0b803c498"
      },
      "execution_count": null,
      "outputs": [
        {
          "output_type": "display_data",
          "data": {
            "image/png": "[encoded data removed]",
            "text/plain": [
              "<Figure size 432x288 with 1 Axes>"
            ]
          },
          "metadata": {
            "needs_background": "light"
          }
        },
        {
          "output_type": "display_data",
          "data": {
            "text/plain": [
              "<Figure size 432x288 with 0 Axes>"
            ]
          },
          "metadata": {}
        }
      ]
    },
    {
      "cell_type": "code",
      "source": [
        "\n",
        "plt.scatter(data['number_of_reviews'][data['yearly_availability']==1], data['accommodation_type'][data['yearly_availability']==1], color= 'r')\n",
        "plt.scatter(data['number_of_reviews'][data['yearly_availability']==0], data['accommodation_type'][data['yearly_availability']==0], color= 'b')\n",
        "plt.title(\"::\")\n",
        "plt.xlabel(\"number_of_reviews\")\n",
        "plt.ylabel(\"accommodation_type\")\n",
        "plt.show()\n",
        "plt.clf()"
      ],
      "metadata": {
        "colab": {
          "base_uri": "https://localhost:8080/",
          "height": 313
        },
        "id": "Z_zn9Oxs8tiZ",
        "outputId": "46542b2e-14f1-49c9-e2d4-54f78b580853"
      },
      "execution_count": null,
      "outputs": [
        {
          "output_type": "display_data",
          "data": {
            "image/png": "[encoded data removed]",
            "text/plain": [
              "<Figure size 432x288 with 1 Axes>"
            ]
          },
          "metadata": {
            "needs_background": "light"
          }
        },
        {
          "output_type": "display_data",
          "data": {
            "text/plain": [
              "<Figure size 432x288 with 0 Axes>"
            ]
          },
          "metadata": {}
        }
      ]
    },
    {
      "cell_type": "code",
      "source": [
        "fig = plt.figure()\n",
        "ax = plt.axes(projection='3d')\n",
        "\n",
        "\n",
        "ax.scatter(data['number_of_reviews'][data['yearly_availability']==1], data['accommodation_type'][data['yearly_availability']==1], data['id'][data['yearly_availability']==1], color= 'r')\n",
        "ax.scatter(data['number_of_reviews'][data['yearly_availability']==0], data['accommodation_type'][data['yearly_availability']==0], data['id'][data['yearly_availability']==0], color= 'b')\n",
        "plt.title(\"::\")\n",
        "ax.set_xlabel('number_of_reviews')\n",
        "ax.set_ylabel('accommodation_type')\n",
        "ax.set_zlabel('id')\n",
        "# plt.xlabel(\"number_of_reviews\")\n",
        "# plt.ylabel(\"accommodation_type\")\n",
        "plt.show()\n",
        "plt.clf()"
      ],
      "metadata": {
        "colab": {
          "base_uri": "https://localhost:8080/",
          "height": 265
        },
        "id": "iC60pnAC9pUL",
        "outputId": "1a8cf61e-7acc-4c1f-8321-956d9120738f"
      },
      "execution_count": null,
      "outputs": [
        {
          "output_type": "display_data",
          "data": {
            "image/png": "[encoded data removed]",
            "text/plain": [
              "<Figure size 432x288 with 1 Axes>"
            ]
          },
          "metadata": {
            "needs_background": "light"
          }
        },
        {
          "output_type": "display_data",
          "data": {
            "text/plain": [
              "<Figure size 432x288 with 0 Axes>"
            ]
          },
          "metadata": {}
        }
      ]
    }
  ],
  "metadata": {
    "colab": {
      "provenance": []
    },
    "kernelspec": {
      "display_name": "Python 3",
      "name": "python3"
    },
    "language_info": {
      "name": "python"
    }
  },
  "nbformat": 4,
  "nbformat_minor": 0
}